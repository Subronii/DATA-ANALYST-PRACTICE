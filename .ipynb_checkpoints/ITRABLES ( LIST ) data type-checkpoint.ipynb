{
 "cells": [
  {
   "cell_type": "markdown",
   "id": "7545e023-4151-40a4-8b61-bf83f1593a6d",
   "metadata": {},
   "source": [
    "# list []"
   ]
  },
  {
   "cell_type": "code",
   "execution_count": 4,
   "id": "5f0efb33-4c04-4ddb-a157-8d8a05cea183",
   "metadata": {},
   "outputs": [
    {
     "name": "stdout",
     "output_type": "stream",
     "text": [
      "['a', 'b', 'c', 'd']\n",
      "<class 'list'>\n",
      "4\n"
     ]
    }
   ],
   "source": [
    "list1 = ['a', 'b', 'c', 'd']\n",
    "print(list1)\n",
    "print(type(list1))\n",
    "print(len(list))"
   ]
  },
  {
   "cell_type": "code",
   "execution_count": 5,
   "id": "69ca2974-cd06-4069-8ffe-d6c5082e83d7",
   "metadata": {},
   "outputs": [
    {
     "name": "stdout",
     "output_type": "stream",
     "text": [
      "c\n",
      "c\n",
      "['d']\n",
      "b\n",
      "['b', 'c']\n",
      "['b', 'c']\n"
     ]
    }
   ],
   "source": [
    "print(list1[2])\n",
    "print(list1[-2])\n",
    "print(list1[3:])\n",
    "print(list1[1])\n",
    "print(list1[1:3])\n",
    "print(list1[-3:-1])"
   ]
  },
  {
   "cell_type": "code",
   "execution_count": 6,
   "id": "bcef814e-f86f-4ba3-b354-ab3e0185a4b8",
   "metadata": {},
   "outputs": [
    {
     "name": "stdout",
     "output_type": "stream",
     "text": [
      "['abc', 1, 2, 4.55, (33+2j), True, False, None]\n",
      "<class 'list'>\n",
      "8\n"
     ]
    }
   ],
   "source": [
    "list2 = [\"abc\" , 1 ,2, 4.55 , 33+2j, True , False, None ]\n",
    "print(list2)\n",
    "print(type(list2))\n",
    "print(len(list2))"
   ]
  },
  {
   "cell_type": "code",
   "execution_count": 7,
   "id": "7b8b80be-feb7-4913-b9ac-f71d8977a4f9",
   "metadata": {},
   "outputs": [],
   "source": [
    "list3 = [['a', 'b', 'c', 'd'],\"abc\" , 1 ,2, 4.55 , 33+2j, True , False, None]"
   ]
  },
  {
   "cell_type": "code",
   "execution_count": 8,
   "id": "75d779dd-b976-401d-84cf-9c0fc1e4f02b",
   "metadata": {},
   "outputs": [
    {
     "name": "stdout",
     "output_type": "stream",
     "text": [
      "[['a', 'b', 'c', 'd'], 'abc', 1, 2, 4.55, (33+2j), True, False, None]\n",
      "<class 'list'>\n",
      "9\n"
     ]
    }
   ],
   "source": [
    "print(list3)\n",
    "print(type(list3))\n",
    "print(len(list3))"
   ]
  },
  {
   "cell_type": "code",
   "execution_count": 10,
   "id": "6729f32a-4917-42f6-b2c9-3062ce9b16ca",
   "metadata": {
    "scrolled": true
   },
   "outputs": [
    {
     "name": "stdout",
     "output_type": "stream",
     "text": [
      "[['a', 'b', 'c', 'd'], ['a', 'b', 'c', 'd'], ('aa', 'bd', 'kc', 'md'), ('aa', 'bd', 'kc', 'md')]\n",
      "<class 'list'>\n",
      "4\n"
     ]
    }
   ],
   "source": [
    "list4 = [['a', 'b', 'c', 'd'], ['a', 'b', 'c', 'd'],('aa', 'bd', 'kc', 'md'),('aa', 'bd', 'kc', 'md')]\n",
    "print(list4)\n",
    "print(type(list4))\n",
    "print(len(list4))"
   ]
  },
  {
   "cell_type": "code",
   "execution_count": 23,
   "id": "54c853ad-5d89-453b-bbc7-2f347ae9843e",
   "metadata": {},
   "outputs": [
    {
     "ename": "TypeError",
     "evalue": "list indices must be integers or slices, not list",
     "output_type": "error",
     "traceback": [
      "\u001b[1;31m---------------------------------------------------------------------------\u001b[0m",
      "\u001b[1;31mTypeError\u001b[0m                                 Traceback (most recent call last)",
      "Cell \u001b[1;32mIn[23], line 1\u001b[0m\n\u001b[1;32m----> 1\u001b[0m list5 \u001b[38;5;241m=\u001b[39m \u001b[38;5;28mlist\u001b[39m[[\u001b[38;5;124m\"\u001b[39m\u001b[38;5;124mname\u001b[39m\u001b[38;5;124m\"\u001b[39m, \u001b[38;5;241m23\u001b[39m, \u001b[38;5;241m34.6\u001b[39m, \u001b[38;5;241m22\u001b[39m\u001b[38;5;241m+\u001b[39m\u001b[38;5;241m4\u001b[39mj]]\n\u001b[0;32m      2\u001b[0m \u001b[38;5;28mprint\u001b[39m(list5)\n",
      "\u001b[1;31mTypeError\u001b[0m: list indices must be integers or slices, not list"
     ]
    }
   ],
   "source": [
    "list5 = list[[\"name\", 23, 34.6, 22+4j]]\n",
    "print(list5)"
   ]
  },
  {
   "cell_type": "code",
   "execution_count": null,
   "id": "cad8b5d1-57f1-4cdd-9f5d-7a0c151a41d2",
   "metadata": {},
   "outputs": [],
   "source": []
  },
  {
   "cell_type": "code",
   "execution_count": 39,
   "id": "f24b2238-bc8b-415a-9c24-71620edf3484",
   "metadata": {},
   "outputs": [
    {
     "name": "stdout",
     "output_type": "stream",
     "text": [
      "['subham', 'ronii', 'anku', 'santosh', 'abraham']\n",
      "5\n",
      "['subham', 'ronii', 'anku', 'santosh', 'abraham', 'prateek', 'bhanu']\n",
      "7\n"
     ]
    }
   ],
   "source": [
    "name1 = [\"subham\", \"ronii\", \"anku\", \"santosh\", \"abraham\"]\n",
    "print(name1)\n",
    "print(len(name1))\n",
    "name1.append(\"prateek\")\n",
    "name1.append(\"bhanu\")\n",
    "print(name1)\n",
    "print(len(name1))"
   ]
  },
  {
   "cell_type": "code",
   "execution_count": 40,
   "id": "45d51a23-23f3-47da-96fd-ad093faf0f38",
   "metadata": {},
   "outputs": [
    {
     "name": "stdout",
     "output_type": "stream",
     "text": [
      "['subham', 'Sanjay', 'ronii', 'anku', 'santosh', 'abraham', 'prateek', 'bhanu']\n",
      "8\n"
     ]
    }
   ],
   "source": [
    "name1.insert(1,\"Sanjay\")\n",
    "print(name1)\n",
    "print(len(name1))"
   ]
  },
  {
   "cell_type": "code",
   "execution_count": 41,
   "id": "d57761ff-4eeb-438e-851d-1793bb5a31ac",
   "metadata": {},
   "outputs": [
    {
     "name": "stdout",
     "output_type": "stream",
     "text": [
      "['subham', 'Sanjay', 'ronii', 'anku', 'santosh', 'abraham', 'prateek', 'bhanu', 'kvs', 'dps', 'xiaver']\n",
      "11\n"
     ]
    }
   ],
   "source": [
    "schl = [\"kvs\", \"dps\" ,\"xiaver\"] # list\n",
    "name1.extend(schl)\n",
    "print(name1)\n",
    "print(len(name1))"
   ]
  },
  {
   "cell_type": "code",
   "execution_count": 42,
   "id": "ff60e697-4fcf-4dd7-8f10-0a24d2a9a8c7",
   "metadata": {},
   "outputs": [
    {
     "name": "stdout",
     "output_type": "stream",
     "text": [
      "['subham', 'Sanjay', 'ronii', 'anku', 'santosh', 'abraham', 'prateek', 'bhanu', 'kvs', 'dps', 'xiaver', 'basket', 'cricket']\n",
      "13\n",
      "<class 'list'>\n"
     ]
    }
   ],
   "source": [
    "games = (\"basket\", \"cricket\") # tuple\n",
    "name1.extend(games)\n",
    "print(name1)\n",
    "print(len(name1))\n",
    "print(type(name1))"
   ]
  },
  {
   "cell_type": "code",
   "execution_count": 43,
   "id": "11115c9d-c36b-438d-afd7-61a7e2f50822",
   "metadata": {},
   "outputs": [
    {
     "name": "stdout",
     "output_type": "stream",
     "text": [
      "['subham', 'tota', 'ronii', 'anku', 'santosh', 'abraham', 'prateek', 'bhanu', 'kvs', 'dps', 'xiaver', 'basket', 'cricket']\n"
     ]
    }
   ],
   "source": [
    "name1[1] = \"tota\"\n",
    "print(name1)"
   ]
  },
  {
   "cell_type": "code",
   "execution_count": 44,
   "id": "1cb4d9ce-c5bb-40ed-8a87-bbe77c389356",
   "metadata": {},
   "outputs": [
    {
     "name": "stdout",
     "output_type": "stream",
     "text": [
      "['subham', 'tota', 'ronii', 'anku', 'santosh', 'abraham', 'prateek', 'bhanu', 'kvs', 'dps', 'xiaver', 'basket', 3]\n"
     ]
    }
   ],
   "source": [
    "name1[-1] = 3\n",
    "print(name1)"
   ]
  },
  {
   "cell_type": "code",
   "execution_count": 46,
   "id": "c4930ece-8edc-4662-ae21-10a2c1035db9",
   "metadata": {},
   "outputs": [
    {
     "ename": "TypeError",
     "evalue": "can only assign an iterable",
     "output_type": "error",
     "traceback": [
      "\u001b[1;31m---------------------------------------------------------------------------\u001b[0m",
      "\u001b[1;31mTypeError\u001b[0m                                 Traceback (most recent call last)",
      "Cell \u001b[1;32mIn[46], line 1\u001b[0m\n\u001b[1;32m----> 1\u001b[0m name1[\u001b[38;5;241m0\u001b[39m:\u001b[38;5;241m3\u001b[39m] \u001b[38;5;241m=\u001b[39m \u001b[38;5;241m2\u001b[39m\n\u001b[0;32m      2\u001b[0m \u001b[38;5;28mprint\u001b[39m(name1)\n\u001b[0;32m      3\u001b[0m \u001b[38;5;28mprint\u001b[39m(\u001b[38;5;28mlen\u001b[39m(name1))\n",
      "\u001b[1;31mTypeError\u001b[0m: can only assign an iterable"
     ]
    }
   ],
   "source": [
    "name1[0:3] = 2\n",
    "print(name1)\n",
    "print(len(name1))"
   ]
  },
  {
   "cell_type": "code",
   "execution_count": null,
   "id": "aa74a133-d140-4107-b24b-1802c0719514",
   "metadata": {},
   "outputs": [],
   "source": []
  }
 ],
 "metadata": {
  "kernelspec": {
   "display_name": "Python 3 (ipykernel)",
   "language": "python",
   "name": "python3"
  },
  "language_info": {
   "codemirror_mode": {
    "name": "ipython",
    "version": 3
   },
   "file_extension": ".py",
   "mimetype": "text/x-python",
   "name": "python",
   "nbconvert_exporter": "python",
   "pygments_lexer": "ipython3",
   "version": "3.11.7"
  }
 },
 "nbformat": 4,
 "nbformat_minor": 5
}
