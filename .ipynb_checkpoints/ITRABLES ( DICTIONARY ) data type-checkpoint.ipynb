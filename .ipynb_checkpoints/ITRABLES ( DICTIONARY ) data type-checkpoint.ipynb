{
 "cells": [
  {
   "cell_type": "markdown",
   "id": "c3d5ae44-86b7-4039-86d8-4738269dd80b",
   "metadata": {},
   "source": [
    "# DICTNARYV{KEY : VALUE}"
   ]
  },
  {
   "cell_type": "code",
   "execution_count": 2,
   "id": "a46ca8ab-fb75-4e33-8c83-e9fb7d4764fd",
   "metadata": {},
   "outputs": [
    {
     "name": "stdout",
     "output_type": "stream",
     "text": [
      "<class 'dict'>\n",
      "{'Name': 'Subham', 'Age': 28, 'Weight': 90, 'City': 'Jabalpur'}\n"
     ]
    }
   ],
   "source": [
    "dist1 = {\"Name\":\"Subham\", \"Age\":28, \"Weight\":90, \"City\":\"Jabalpur\"}\n",
    "print(type(dist1))\n",
    "print(dist1)"
   ]
  },
  {
   "cell_type": "code",
   "execution_count": 3,
   "id": "20f300dc-5133-40d1-ab5d-c69700410ff0",
   "metadata": {},
   "outputs": [
    {
     "name": "stdout",
     "output_type": "stream",
     "text": [
      "<class 'dict'>\n",
      "{'Father': 'Suresh', 'Mother': 'Swarnlata', 'Years of Marriage': 29, 'Childrens': 2}\n"
     ]
    }
   ],
   "source": [
    "dist2 = {\n",
    "    \"Father\":\"Suresh\",\n",
    "    \"Mother\":\"Swarnlata\",\n",
    "    \"Years of Marriage\":29,\n",
    "    \"Childrens\":2\n",
    "}\n",
    "print(type(dist2))\n",
    "print(dist2)"
   ]
  },
  {
   "cell_type": "code",
   "execution_count": 6,
   "id": "ff0a6761-6388-4d28-93a9-28038cac9a86",
   "metadata": {},
   "outputs": [
    {
     "name": "stdout",
     "output_type": "stream",
     "text": [
      "Subham\n",
      "2\n"
     ]
    }
   ],
   "source": [
    "print(dist1[\"Name\"])\n",
    "print(dist2[\"Childrens\"])"
   ]
  },
  {
   "cell_type": "code",
   "execution_count": 7,
   "id": "0ff0e3f3-116f-437b-94ac-87d840d92b7d",
   "metadata": {},
   "outputs": [
    {
     "name": "stdout",
     "output_type": "stream",
     "text": [
      "4\n",
      "4\n"
     ]
    }
   ],
   "source": [
    "print(len(dist1))\n",
    "print(len(dist2))"
   ]
  },
  {
   "cell_type": "code",
   "execution_count": 9,
   "id": "b760f8e3-b606-4a36-a5ba-822d9b1516ea",
   "metadata": {},
   "outputs": [
    {
     "name": "stdout",
     "output_type": "stream",
     "text": [
      "<class 'dict'>\n",
      "5\n",
      "{'string': 'ABCdef', 'Intiger': 12, 'Complex': (22+4j), 'Float': 24.5, 'Boolean': None}\n"
     ]
    }
   ],
   "source": [
    "dist3 = {\n",
    "    \"string\":\"ABCdef\",\n",
    "    \"Intiger\":12,\n",
    "    \"Complex\":22+4j,\n",
    "    \"Float\":24.5,\n",
    "    \"Boolean\": True,\n",
    "    \"Boolean\": None\n",
    "}\n",
    "print(type(dist3))\n",
    "print(len(dist3))\n",
    "print(dist3)\n",
    "\n",
    "# \"Boolean\": True,\n",
    "#  \"Boolean\": None\n",
    "#  Repeat value not allowed , when its repeat its aonly take last repitative value"
   ]
  },
  {
   "cell_type": "code",
   "execution_count": 11,
   "id": "8d37c4ce-4c62-4aeb-9b39-fdda446b0b72",
   "metadata": {},
   "outputs": [
    {
     "name": "stdout",
     "output_type": "stream",
     "text": [
      "{'State': 'Madhya Pradesh', 'City': 'Jabalpur', 'Pincode': 482001}\n",
      "3\n",
      "<class 'dict'>\n"
     ]
    }
   ],
   "source": [
    "dist4 = dict(State = \"Madhya Pradesh\", City = \"Jabalpur\", Pincode = 482001)\n",
    "print(dist4)\n",
    "print(len(dist4))\n",
    "print(type(dist4))"
   ]
  },
  {
   "cell_type": "code",
   "execution_count": 12,
   "id": "c1beeb0e-2e78-4979-a72c-494153e5a9a6",
   "metadata": {},
   "outputs": [
    {
     "name": "stdout",
     "output_type": "stream",
     "text": [
      "Madhya Pradesh\n"
     ]
    }
   ],
   "source": [
    "print(dist4.get(\"State\"))"
   ]
  },
  {
   "cell_type": "code",
   "execution_count": 18,
   "id": "3428cc6e-f016-4875-8c88-697c404a3add",
   "metadata": {},
   "outputs": [
    {
     "name": "stdout",
     "output_type": "stream",
     "text": [
      "dict_keys(['Name', 'Age', 'Weight', 'City'])\n"
     ]
    }
   ],
   "source": [
    "print(dist1.keys())"
   ]
  },
  {
   "cell_type": "code",
   "execution_count": 19,
   "id": "7eccdd43-b79e-44b9-b055-80df18dc29e0",
   "metadata": {},
   "outputs": [
    {
     "name": "stdout",
     "output_type": "stream",
     "text": [
      "dict_values(['Suresh', 'Swarnlata', 29, 2])\n"
     ]
    }
   ],
   "source": [
    "print(dist2.values())"
   ]
  },
  {
   "cell_type": "code",
   "execution_count": 22,
   "id": "8a5a2a87-f689-4c3a-891a-4c19296f354a",
   "metadata": {},
   "outputs": [
    {
     "name": "stdout",
     "output_type": "stream",
     "text": [
      "{'Name': 'Subham', 'Age': 28, 'Weight': 90, 'City': 'Jabalpur', 'School': 'KVS', '12 Score': 75.66, '12th Score': 75.66}\n",
      "dict_keys(['Name', 'Age', 'Weight', 'City', 'School', '12 Score', '12th Score'])\n",
      "dict_values(['Subham', 28, 90, 'Jabalpur', 'KVS', 75.66, 75.66])\n"
     ]
    }
   ],
   "source": [
    "dist1[\"School\"] = \"KVS\"\n",
    "dist1[\"12th Score\"] = 75.66\n",
    "print(dist1)\n",
    "print(dist1.keys())\n",
    "print(dist1.values())"
   ]
  },
  {
   "cell_type": "code",
   "execution_count": 25,
   "id": "48d94ebc-c640-4b40-928f-a84b6b679edf",
   "metadata": {},
   "outputs": [
    {
     "name": "stdout",
     "output_type": "stream",
     "text": [
      "{'Father': 'Suresh', 'Mother': 'Swarnlata', 'Years of Marriage': 29, 'Childrens': 2}\n",
      "dict_keys(['Father', 'Mother', 'Years of Marriage', 'Childrens'])\n",
      "dict_values(['Suresh', 'Swarnlata', 29, 2])\n",
      "{'Father': 'Suresh', 'Mother': 'Mamta', 'Years of Marriage': 28, 'Childrens': 2}\n",
      "dict_keys(['Father', 'Mother', 'Years of Marriage', 'Childrens'])\n",
      "dict_values(['Suresh', 'Mamta', 28, 2])\n"
     ]
    }
   ],
   "source": [
    "print(dist2)\n",
    "print(dist2.keys())\n",
    "print(dist2.values())\n",
    "dist2[\"Years of Marriage\"] = 28\n",
    "dist2[\"Mother\"] = \"Mamta\"\n",
    "print(dist2)\n",
    "print(dist2.keys())\n",
    "print(dist2.values())"
   ]
  },
  {
   "cell_type": "code",
   "execution_count": 26,
   "id": "37e0fba7-0f14-458e-ab5b-aaf12daee111",
   "metadata": {},
   "outputs": [
    {
     "name": "stdout",
     "output_type": "stream",
     "text": [
      "{'State': 'Madhya Pradesh', 'City': 'Jabalpur', 'Pincode': 482001}\n",
      "dict_items([('State', 'Madhya Pradesh'), ('City', 'Jabalpur'), ('Pincode', 482001)])\n"
     ]
    }
   ],
   "source": [
    "print(dist4)\n",
    "print(dist4.items())"
   ]
  },
  {
   "cell_type": "code",
   "execution_count": 28,
   "id": "72169507-f7cc-4a0c-a605-9e7c3c3b9c31",
   "metadata": {},
   "outputs": [
    {
     "name": "stdout",
     "output_type": "stream",
     "text": [
      "Its True\n",
      "Its True\n"
     ]
    }
   ],
   "source": [
    "if \"State\" in dist4 :\n",
    "    print(\"Its True\")\n",
    "if \"jabalpur\" not in dist4 : # in and not in search in KEY \n",
    "    print(\"Its True\")"
   ]
  },
  {
   "cell_type": "code",
   "execution_count": 29,
   "id": "60c4b680-53a1-40bc-b4fa-d6e08bc284d0",
   "metadata": {},
   "outputs": [
    {
     "name": "stdout",
     "output_type": "stream",
     "text": [
      "{'State': 'Madhya Pradesh', 'City': 'Bhopal', 'Pincode': 482001}\n"
     ]
    }
   ],
   "source": [
    "dist4.update({\"City\":\"Bhopal\"})\n",
    "print(dist4)"
   ]
  },
  {
   "cell_type": "code",
   "execution_count": 30,
   "id": "7798453f-0c26-478a-af20-c463d7a6f5dc",
   "metadata": {},
   "outputs": [
    {
     "name": "stdout",
     "output_type": "stream",
     "text": [
      "{'State': 'Madhya Pradesh', 'City': 'Bhopal', 'Pincode': 482001, 'Capital': 'Jabalpur'}\n"
     ]
    }
   ],
   "source": [
    "dist4.update({\"Capital\":\"Jabalpur\"})\n",
    "print(dist4)"
   ]
  },
  {
   "cell_type": "code",
   "execution_count": 31,
   "id": "6b3ca8b0-e598-4100-b343-2394d41d1ba0",
   "metadata": {},
   "outputs": [
    {
     "name": "stdout",
     "output_type": "stream",
     "text": [
      "Bhopal\n"
     ]
    }
   ],
   "source": [
    "print(dist4.pop(\"City\"))"
   ]
  },
  {
   "cell_type": "code",
   "execution_count": 32,
   "id": "0449d900-548d-4c8c-8da6-5304c7e1175f",
   "metadata": {},
   "outputs": [
    {
     "name": "stdout",
     "output_type": "stream",
     "text": [
      "{'State': 'Madhya Pradesh', 'Pincode': 482001, 'Capital': 'Jabalpur'}\n"
     ]
    }
   ],
   "source": [
    "print(dist4)"
   ]
  },
  {
   "cell_type": "code",
   "execution_count": 33,
   "id": "e1372468-e81e-4a9b-ac7d-98fc6be9c978",
   "metadata": {},
   "outputs": [
    {
     "name": "stdout",
     "output_type": "stream",
     "text": [
      "{'State': 'Madhya Pradesh', 'Pincode': 482001}\n"
     ]
    }
   ],
   "source": [
    "dist4.popitem()\n",
    "print(dist4)"
   ]
  },
  {
   "cell_type": "code",
   "execution_count": 34,
   "id": "98f0f2f2-b82b-4c30-aecc-f1777bcd33c2",
   "metadata": {},
   "outputs": [
    {
     "name": "stdout",
     "output_type": "stream",
     "text": [
      "{'Name': 'Subham', 'Age': 28, 'Weight': 90, 'City': 'Jabalpur', 'School': 'KVS', '12 Score': 75.66, '12th Score': 75.66}\n",
      "{'Age': 28, 'Weight': 90, 'City': 'Jabalpur', 'School': 'KVS', '12 Score': 75.66, '12th Score': 75.66}\n"
     ]
    }
   ],
   "source": [
    "print(dist1)\n",
    "del dist1[\"Name\"]\n",
    "print(dist1)"
   ]
  },
  {
   "cell_type": "code",
   "execution_count": 35,
   "id": "2aeb05f9-4a8c-486f-93b9-587e8f2d8558",
   "metadata": {},
   "outputs": [
    {
     "name": "stdout",
     "output_type": "stream",
     "text": [
      "{'Father': 'Suresh', 'Mother': 'Mamta', 'Years of Marriage': 28, 'Childrens': 2}\n",
      "4\n",
      "{}\n",
      "0\n"
     ]
    }
   ],
   "source": [
    "print(dist2)\n",
    "print(len(dist2))\n",
    "dist2.clear()\n",
    "print(dist2)\n",
    "print(len(dist2))"
   ]
  },
  {
   "cell_type": "code",
   "execution_count": 36,
   "id": "d89f8dd3-93a0-4959-b113-2a9521d2b344",
   "metadata": {},
   "outputs": [
    {
     "name": "stdout",
     "output_type": "stream",
     "text": [
      "Age\n",
      "Weight\n",
      "City\n",
      "School\n",
      "12 Score\n",
      "12th Score\n"
     ]
    }
   ],
   "source": [
    "for xx in dist1 :\n",
    "    print(xx) # print the keys"
   ]
  },
  {
   "cell_type": "code",
   "execution_count": 39,
   "id": "31ea3b04-3627-43cf-9cb5-1d4bf6cd44a9",
   "metadata": {},
   "outputs": [
    {
     "name": "stdout",
     "output_type": "stream",
     "text": [
      "28\n",
      "90\n",
      "Jabalpur\n",
      "KVS\n",
      "75.66\n",
      "75.66\n"
     ]
    }
   ],
   "source": [
    "# print tke values\n",
    "for xx in dist1 :\n",
    "    print(dist1[xx])"
   ]
  },
  {
   "cell_type": "code",
   "execution_count": 40,
   "id": "d0d63f1f-5884-4f57-817a-b971ce21af55",
   "metadata": {},
   "outputs": [
    {
     "name": "stdout",
     "output_type": "stream",
     "text": [
      "28\n",
      "90\n",
      "Jabalpur\n",
      "KVS\n",
      "75.66\n",
      "75.66\n"
     ]
    }
   ],
   "source": [
    "for xx in dist1.values():\n",
    "    print(xx)"
   ]
  },
  {
   "cell_type": "code",
   "execution_count": 41,
   "id": "0db3bf32-4788-4a2c-8505-c18fcb880750",
   "metadata": {},
   "outputs": [
    {
     "name": "stdout",
     "output_type": "stream",
     "text": [
      "Age\n",
      "Weight\n",
      "City\n",
      "School\n",
      "12 Score\n",
      "12th Score\n"
     ]
    }
   ],
   "source": [
    "for xx in dist1.keys():\n",
    "    print(xx)"
   ]
  },
  {
   "cell_type": "code",
   "execution_count": 42,
   "id": "df2b7c79-6bb5-47b8-a0df-123595046e4d",
   "metadata": {},
   "outputs": [
    {
     "name": "stdout",
     "output_type": "stream",
     "text": [
      "28\n",
      "90\n",
      "Jabalpur\n",
      "KVS\n",
      "75.66\n",
      "75.66\n"
     ]
    }
   ],
   "source": [
    "for xx in dist1.keys():\n",
    "    print(dist1[xx])"
   ]
  },
  {
   "cell_type": "code",
   "execution_count": 43,
   "id": "d22a36f7-a309-4e3e-8d99-75b976b4e987",
   "metadata": {},
   "outputs": [
    {
     "name": "stdout",
     "output_type": "stream",
     "text": [
      "{'Age': 28, 'Weight': 90, 'City': 'Jabalpur', 'School': 'KVS', '12 Score': 75.66, '12th Score': 75.66}\n"
     ]
    }
   ],
   "source": [
    "print(dist1)"
   ]
  },
  {
   "cell_type": "code",
   "execution_count": null,
   "id": "c0120331-d760-42e8-8976-b4b5cd36177c",
   "metadata": {},
   "outputs": [],
   "source": []
  }
 ],
 "metadata": {
  "kernelspec": {
   "display_name": "Python 3 (ipykernel)",
   "language": "python",
   "name": "python3"
  },
  "language_info": {
   "codemirror_mode": {
    "name": "ipython",
    "version": 3
   },
   "file_extension": ".py",
   "mimetype": "text/x-python",
   "name": "python",
   "nbconvert_exporter": "python",
   "pygments_lexer": "ipython3",
   "version": "3.11.7"
  }
 },
 "nbformat": 4,
 "nbformat_minor": 5
}
