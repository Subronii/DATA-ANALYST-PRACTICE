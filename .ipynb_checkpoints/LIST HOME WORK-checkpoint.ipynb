{
 "cells": [
  {
   "cell_type": "markdown",
   "id": "326cfff1-b2ed-4de8-8868-1675dc09e985",
   "metadata": {},
   "source": [
    "# 071 Create a list of two sports. Ask the user what their favourite sport is and add this to the end of the list. Sort the list and display it."
   ]
  },
  {
   "cell_type": "code",
   "execution_count": 4,
   "id": "215a2e69-688d-4e00-9ba8-c93d656e4aa3",
   "metadata": {},
   "outputs": [
    {
     "name": "stdin",
     "output_type": "stream",
     "text": [
      "Name your favourite sport :  vollyball\n"
     ]
    },
    {
     "name": "stdout",
     "output_type": "stream",
     "text": [
      "['Handball', 'Basketball', 'Vollyball']\n"
     ]
    }
   ],
   "source": [
    "list_1 = [\"Handball\", \"Basketball\"]\n",
    "ask_1 = str(input(\"Name your favourite sport : \"))\n",
    "list_1.append(ask_1.title())\n",
    "print(list_1)"
   ]
  },
  {
   "cell_type": "markdown",
   "id": "36550000-1fc1-4eb4-a747-926b4ea7673f",
   "metadata": {},
   "source": [
    "# 072 Create a list of six school subjects. Ask the user which of these subjects they don’t like. Delete the subject they have chosen from the list before you display the list again."
   ]
  },
  {
   "cell_type": "code",
   "execution_count": 9,
   "id": "06909498-5824-461d-81a4-d5421d01bc66",
   "metadata": {},
   "outputs": [
    {
     "name": "stdout",
     "output_type": "stream",
     "text": [
      "['Maths', 'Science', 'Hindi', 'English', 'Sanskrit', 'Computer Science']\n"
     ]
    },
    {
     "name": "stdin",
     "output_type": "stream",
     "text": [
      "Which of these subjects they don’t like :  sanskrit\n"
     ]
    },
    {
     "name": "stdout",
     "output_type": "stream",
     "text": [
      "['Maths', 'Science', 'Hindi', 'English', 'Computer Science']\n"
     ]
    }
   ],
   "source": [
    "list_2 = [\"Maths\", \"Science\", \"Hindi\", \"English\", \"Sanskrit\", \"Computer Science\"]\n",
    "print(list_2)\n",
    "ask_2 = str(input(\"Which of these subjects they don’t like : \"))\n",
    "list_2.remove(ask_2.title())\n",
    "print(list_2)"
   ]
  },
  {
   "cell_type": "markdown",
   "id": "0b735762-f04c-452c-924c-18edd1c62d36",
   "metadata": {},
   "source": [
    "# 074 Enter a list of ten colours. Ask the user for a starting number between 0 and 4 and an end number between 5 and 9. Display the list for those colours between the start and end numbers the user input."
   ]
  },
  {
   "cell_type": "code",
   "execution_count": 14,
   "id": "79ebb742-355f-4126-aaf4-aaf63c78ee08",
   "metadata": {},
   "outputs": [
    {
     "name": "stdout",
     "output_type": "stream",
     "text": [
      "['WHITE', 'YELLOW', 'RED', 'BLUE', 'GREEN', 'BLACK', 'PURPLE', 'PINK', 'ORANGE', 'GREY']\n"
     ]
    },
    {
     "name": "stdin",
     "output_type": "stream",
     "text": [
      "Enter number between 0 - 4 :  2\n",
      "Enter number between 5 - 9 :  9\n"
     ]
    },
    {
     "name": "stdout",
     "output_type": "stream",
     "text": [
      "['RED', 'BLUE', 'GREEN', 'BLACK', 'PURPLE', 'PINK', 'ORANGE']\n"
     ]
    }
   ],
   "source": [
    "list_3 = [\"WHITE\", \"YELLOW\", \"RED\", \"BLUE\", \"GREEN\", \"BLACK\", \"PURPLE\", \"PINK\", \"ORANGE\", \"GREY\"]\n",
    "print(list_3)\n",
    "ask_3 = int(input(\"Enter number between 0 - 4 : \"))\n",
    "ask_3 <= 4\n",
    "ask_4 = int(input(\"Enter number between 5 - 9 : \"))\n",
    "ask_4 >= 9\n",
    "ask_4 <= 5\n",
    "print(list_3[ask_3:ask_4])"
   ]
  },
  {
   "cell_type": "markdown",
   "id": "2b58dfa6-d6f1-4f82-a216-da312d9f9623",
   "metadata": {},
   "source": [
    "# 075 Create a list of four three-digit numbers. Display the list to the user, showing each item from the list on a separate line. Ask the user to enter a three-digit number. If the number they have typed in matches one in the list, display the position of that number in the list, otherwise display the message “That is not in the list”."
   ]
  },
  {
   "cell_type": "code",
   "execution_count": 26,
   "id": "96492d74-f6ba-4a00-acea-6ec38e75dfd8",
   "metadata": {
    "scrolled": true
   },
   "outputs": [
    {
     "name": "stdout",
     "output_type": "stream",
     "text": [
      "123\n",
      "345\n",
      "567\n",
      "789\n"
     ]
    },
    {
     "name": "stdin",
     "output_type": "stream",
     "text": [
      "Enter a three-digit number :  234\n"
     ]
    },
    {
     "name": "stdout",
     "output_type": "stream",
     "text": [
      "That is not in the list\n"
     ]
    }
   ],
   "source": [
    "num_list = [123, 345, 567, 789]\n",
    "for l in num_list :\n",
    " print(l)\n",
    "ask_num = int(input(\"Enter a three-digit number : \"))\n",
    "l = ask_num\n",
    "if l in num_list :\n",
    "    print(num_list.index(l))\n",
    "else :\n",
    "    print(\"That is not in the list\")"
   ]
  },
  {
   "cell_type": "markdown",
   "id": "5d81bf11-76d6-4c0e-aa28-d94ca1811a84",
   "metadata": {},
   "source": [
    "# 076 Ask the user to enter the names of three people they want to invite to a party and store them in a list. After they have entered all three names, ask them if they want to add another. If they do, allow them to add more names until they answer “no”. When they answer “no”, display how many people they have invited to the party."
   ]
  },
  {
   "cell_type": "code",
   "execution_count": null,
   "id": "3930acf0-6243-41b4-a41a-13a73238be0a",
   "metadata": {},
   "outputs": [],
   "source": [
    "name_list = []\n",
    "ask_name = str(input(\"Enter the first name of three you want to invite to a party : \"))\n",
    "name_list.append(ask_name)\n",
    "ask_name = str(input(\"Enter the second name of three you want to invite to a party : \"))\n",
    "name_list.append(ask_name)\n",
    "ask_name = str(input(\"Enter the third name of three you want to invite to a party : \"))\n",
    "name_list.append(ask_name)\n",
    "add_name = str(input(\"Do you want another name enter 'yes' or 'no':\"))\n",
    "add_name.lower()\n",
    "A = add_name\n",
    "while A in add_name  :\n",
    "    if \"yes\" in A :\n",
    "        print(ask_name = str(input(\"Enter the name you want to invite to a party : \")))\n",
    "name_list.append(ask_name)\n",
    "A = A + 1\n",
    "if \"no\" in add_name :\n",
    "                print(\"You have invite\", len(name_list), \"people to the party\")"
   ]
  },
  {
   "cell_type": "code",
   "execution_count": null,
   "id": "80dc58c4-4ca8-4cdc-8472-78c52fa254cd",
   "metadata": {},
   "outputs": [],
   "source": []
  },
  {
   "cell_type": "code",
   "execution_count": 5,
   "id": "0d104ff7-4cda-4745-891e-c64ee360466a",
   "metadata": {},
   "outputs": [],
   "source": [
    "name_list = ['a', 'b', 'c', 'd', 'e']"
   ]
  },
  {
   "cell_type": "markdown",
   "id": "83255595-8751-4275-81bb-a5da0e633021",
   "metadata": {},
   "source": [
    "# 077 Change program 076 so that once the user has completed their list of names, display the full list and ask them to type in one of the names on the list. Display the position of that name in the list. Ask the user if they still want that person to come to the party. If they answer “no”, delete that entry from the list and display the list again."
   ]
  },
  {
   "cell_type": "code",
   "execution_count": 6,
   "id": "a43eab49-1e3a-463a-a457-0f9bb8bd33ec",
   "metadata": {},
   "outputs": [
    {
     "name": "stdout",
     "output_type": "stream",
     "text": [
      "['a', 'b', 'c', 'd', 'e']\n"
     ]
    },
    {
     "name": "stdin",
     "output_type": "stream",
     "text": [
      "Enter one name from the list :  c\n"
     ]
    },
    {
     "name": "stdout",
     "output_type": "stream",
     "text": [
      "2\n"
     ]
    },
    {
     "name": "stdin",
     "output_type": "stream",
     "text": [
      "Do you still want this person to come to party Enter 'yes' or 'no' :  no\n"
     ]
    },
    {
     "name": "stdout",
     "output_type": "stream",
     "text": [
      "['a', 'b', 'd', 'e']\n"
     ]
    }
   ],
   "source": [
    "print(name_list)\n",
    "ask_type = str(input(\"Enter one name from the list : \"))\n",
    "print(name_list.index(ask_type))\n",
    "ask_del = str(input(\"Do you still want this person to come to party Enter 'yes' or 'no' : \"))\n",
    "ask_del.lower()\n",
    "if \"no\" in ask_del :\n",
    "    name_list.remove(ask_type)\n",
    "    print(name_list)"
   ]
  },
  {
   "cell_type": "code",
   "execution_count": null,
   "id": "ebc6890a-f66f-4899-b59e-c86e2f665b8c",
   "metadata": {},
   "outputs": [],
   "source": []
  },
  {
   "cell_type": "markdown",
   "id": "9f8105bd-2129-49ff-a8fb-d5fdf4b2f162",
   "metadata": {},
   "source": [
    "# 078 Create a list containing the titles of four TV programmes and display them on separate lines. Ask the user to enter another show and a position they want it inserted into the list. Display the list again, showing all five TV programmes in their new positions."
   ]
  },
  {
   "cell_type": "code",
   "execution_count": 3,
   "id": "c600b643-f07c-4220-8bc8-383a333bb19c",
   "metadata": {},
   "outputs": [
    {
     "name": "stdout",
     "output_type": "stream",
     "text": [
      "IPL\n",
      "NBA\n",
      "BGIS\n",
      "Counting Cars\n"
     ]
    },
    {
     "name": "stdin",
     "output_type": "stream",
     "text": [
      "Do you want to enter another show , Enter 'yes' or 'no' :  yes\n",
      "Enter its postion you want in the list :  2\n",
      "Enter the program name you want to add in the list :  DDLJ\n"
     ]
    },
    {
     "name": "stdout",
     "output_type": "stream",
     "text": [
      "['IPL', 'NBA', 'DDLJ', 'BGIS', 'Counting Cars']\n"
     ]
    }
   ],
   "source": [
    "tv_list = [\"IPL\", \"NBA\",\"BGIS\", \"Counting Cars\"]\n",
    "for list_tv in tv_list :\n",
    "    print(list_tv)\n",
    "ask_tv = str(input(\"Do you want to enter another show , Enter 'yes' or 'no' : \"))\n",
    "ask_tv.lower()\n",
    "if \"yes\" in ask_tv :\n",
    "    ask_pos = int(input(\"Enter its postion you want in the list : \"))\n",
    "tv_add = str(input(\"Enter the program name you want to add in the list : \"))\n",
    "tv_list.insert(ask_pos,tv_add)\n",
    "print(tv_list)"
   ]
  },
  {
   "cell_type": "code",
   "execution_count": null,
   "id": "d5bff931-54d3-4e92-a53e-9f4789e4fb84",
   "metadata": {},
   "outputs": [],
   "source": []
  },
  {
   "cell_type": "markdown",
   "id": "32396ec9-b414-48c9-bc06-db18376ad09b",
   "metadata": {},
   "source": [
    "# 079 Create an empty list called “nums”. Ask the user to enter numbers. After each number is entered, add it to the end of the nums list and display the list. Once they have entered three numbers, ask them if they still want the last number they entered saved. If they say “no”, remove the last item from the list. Display the list of numbers."
   ]
  },
  {
   "cell_type": "code",
   "execution_count": 1,
   "id": "1563be0f-a9d8-4d24-a7b9-a62d836e3979",
   "metadata": {},
   "outputs": [
    {
     "ename": "SyntaxError",
     "evalue": "invalid syntax (3843370257.py, line 16)",
     "output_type": "error",
     "traceback": [
      "\u001b[1;36m  Cell \u001b[1;32mIn[1], line 16\u001b[1;36m\u001b[0m\n\u001b[1;33m    else :\u001b[0m\n\u001b[1;37m    ^\u001b[0m\n\u001b[1;31mSyntaxError\u001b[0m\u001b[1;31m:\u001b[0m invalid syntax\n"
     ]
    }
   ],
   "source": [
    "nums = []\n",
    "ask_nums = int(input(\"Enter a number : \"))\n",
    "nums.append(ask_nums)\n",
    "print(nums)\n",
    "ask_nums = int(input(\"Enter a number : \"))\n",
    "nums.append(ask_nums)\n",
    "print(nums)\n",
    "ask_nums = int(input(\"Enter a number : \"))\n",
    "nums.append(ask_nums)\n",
    "print(nums)\n",
    "add_nums = str(input(\"Do want to add another number , enter 'yes' or 'no':\"))\n",
    "while \"yes\" in add_nums :\n",
    "    if \"yes\" in add_nums :\n",
    "        print(ask_nums1 = int(input(\"Enter a number : \")))\n",
    "        nums.append(ask_nums1)\n",
    "        else :\n",
    "        print(nums.pop)"
   ]
  },
  {
   "cell_type": "code",
   "execution_count": null,
   "id": "6b1a4148-f0bf-4224-8b74-3c37433ca9b4",
   "metadata": {},
   "outputs": [],
   "source": []
  }
 ],
 "metadata": {
  "kernelspec": {
   "display_name": "Python 3 (ipykernel)",
   "language": "python",
   "name": "python3"
  },
  "language_info": {
   "codemirror_mode": {
    "name": "ipython",
    "version": 3
   },
   "file_extension": ".py",
   "mimetype": "text/x-python",
   "name": "python",
   "nbconvert_exporter": "python",
   "pygments_lexer": "ipython3",
   "version": "3.11.7"
  }
 },
 "nbformat": 4,
 "nbformat_minor": 5
}
