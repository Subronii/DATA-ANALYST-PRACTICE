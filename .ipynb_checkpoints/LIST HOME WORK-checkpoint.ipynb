{
 "cells": [
  {
   "cell_type": "markdown",
   "id": "326cfff1-b2ed-4de8-8868-1675dc09e985",
   "metadata": {},
   "source": [
    "# 071 Create a list of two sports. Ask the user what their favourite sport is and add this to the end of the list. Sort the list and display it."
   ]
  },
  {
   "cell_type": "code",
   "execution_count": 4,
   "id": "215a2e69-688d-4e00-9ba8-c93d656e4aa3",
   "metadata": {},
   "outputs": [
    {
     "name": "stdin",
     "output_type": "stream",
     "text": [
      "Name your favourite sport :  vollyball\n"
     ]
    },
    {
     "name": "stdout",
     "output_type": "stream",
     "text": [
      "['Handball', 'Basketball', 'Vollyball']\n"
     ]
    }
   ],
   "source": [
    "list_1 = [\"Handball\", \"Basketball\"]\n",
    "ask_1 = str(input(\"Name your favourite sport : \"))\n",
    "list_1.append(ask_1.title())\n",
    "print(list_1)"
   ]
  },
  {
   "cell_type": "markdown",
   "id": "36550000-1fc1-4eb4-a747-926b4ea7673f",
   "metadata": {},
   "source": [
    "# 072 Create a list of six school subjects. Ask the user which of these subjects they don’t like. Delete the subject they have chosen from the list before you display the list again."
   ]
  },
  {
   "cell_type": "code",
   "execution_count": 9,
   "id": "06909498-5824-461d-81a4-d5421d01bc66",
   "metadata": {},
   "outputs": [
    {
     "name": "stdout",
     "output_type": "stream",
     "text": [
      "['Maths', 'Science', 'Hindi', 'English', 'Sanskrit', 'Computer Science']\n"
     ]
    },
    {
     "name": "stdin",
     "output_type": "stream",
     "text": [
      "Which of these subjects they don’t like :  sanskrit\n"
     ]
    },
    {
     "name": "stdout",
     "output_type": "stream",
     "text": [
      "['Maths', 'Science', 'Hindi', 'English', 'Computer Science']\n"
     ]
    }
   ],
   "source": [
    "list_2 = [\"Maths\", \"Science\", \"Hindi\", \"English\", \"Sanskrit\", \"Computer Science\"]\n",
    "print(list_2)\n",
    "ask_2 = str(input(\"Which of these subjects they don’t like : \"))\n",
    "list_2.remove(ask_2.title())\n",
    "print(list_2)"
   ]
  },
  {
   "cell_type": "markdown",
   "id": "0b735762-f04c-452c-924c-18edd1c62d36",
   "metadata": {},
   "source": [
    "# 074 Enter a list of ten colours. Ask the user for a starting number between 0 and 4 and an end number between 5 and 9. Display the list for those colours between the start and end numbers the user input."
   ]
  },
  {
   "cell_type": "code",
   "execution_count": 14,
   "id": "79ebb742-355f-4126-aaf4-aaf63c78ee08",
   "metadata": {},
   "outputs": [
    {
     "name": "stdout",
     "output_type": "stream",
     "text": [
      "['WHITE', 'YELLOW', 'RED', 'BLUE', 'GREEN', 'BLACK', 'PURPLE', 'PINK', 'ORANGE', 'GREY']\n"
     ]
    },
    {
     "name": "stdin",
     "output_type": "stream",
     "text": [
      "Enter number between 0 - 4 :  2\n",
      "Enter number between 5 - 9 :  9\n"
     ]
    },
    {
     "name": "stdout",
     "output_type": "stream",
     "text": [
      "['RED', 'BLUE', 'GREEN', 'BLACK', 'PURPLE', 'PINK', 'ORANGE']\n"
     ]
    }
   ],
   "source": [
    "list_3 = [\"WHITE\", \"YELLOW\", \"RED\", \"BLUE\", \"GREEN\", \"BLACK\", \"PURPLE\", \"PINK\", \"ORANGE\", \"GREY\"]\n",
    "print(list_3)\n",
    "ask_3 = int(input(\"Enter number between 0 - 4 : \"))\n",
    "ask_3 <= 4\n",
    "ask_4 = int(input(\"Enter number between 5 - 9 : \"))\n",
    "ask_4 >= 9\n",
    "ask_4 <= 5\n",
    "print(list_3[ask_3:ask_4])"
   ]
  },
  {
   "cell_type": "markdown",
   "id": "2b58dfa6-d6f1-4f82-a216-da312d9f9623",
   "metadata": {},
   "source": [
    "# 075 Create a list of four three-digit numbers. Display the list to the user, showing each item from the list on a separate line. Ask the user to enter a three-digit number. If the number they have typed in matches one in the list, display the position of that number in the list, otherwise display the message “That is not in the list”."
   ]
  },
  {
   "cell_type": "code",
   "execution_count": null,
   "id": "0068dd2b-080f-4275-b503-fcaeac36f583",
   "metadata": {},
   "outputs": [
    {
     "name": "stdout",
     "output_type": "stream",
     "text": [
      "12\n"
     ]
    },
    {
     "name": "stdin",
     "output_type": "stream",
     "text": [
      "Enter a three-digit number :  256\n"
     ]
    },
    {
     "name": "stdout",
     "output_type": "stream",
     "text": [
      "That is not in the list\n",
      "456\n"
     ]
    },
    {
     "name": "stdin",
     "output_type": "stream",
     "text": [
      "Enter a three-digit number :  12\n"
     ]
    },
    {
     "name": "stdout",
     "output_type": "stream",
     "text": [
      "That is not in the list\n",
      "789\n"
     ]
    }
   ],
   "source": [
    "list_4 = [12, 456, 789, 111]\n",
    "for l in list_4 :\n",
    "    print(l)\n",
    "    ask_5 = int(input(\"Enter a three-digit number : \"))\n",
    "    if ask_5 == list_4 :\n",
    "     print(ask_5.count())\n",
    "    else :\n",
    "     print(\"That is not in the list\")\n",
    "    "
   ]
  },
  {
   "cell_type": "code",
   "execution_count": null,
   "id": "b9b4e008-fdf3-471b-984a-da71619a3f4e",
   "metadata": {},
   "outputs": [],
   "source": []
  }
 ],
 "metadata": {
  "kernelspec": {
   "display_name": "Python 3 (ipykernel)",
   "language": "python",
   "name": "python3"
  },
  "language_info": {
   "codemirror_mode": {
    "name": "ipython",
    "version": 3
   },
   "file_extension": ".py",
   "mimetype": "text/x-python",
   "name": "python",
   "nbconvert_exporter": "python",
   "pygments_lexer": "ipython3",
   "version": "3.11.7"
  }
 },
 "nbformat": 4,
 "nbformat_minor": 5
}
