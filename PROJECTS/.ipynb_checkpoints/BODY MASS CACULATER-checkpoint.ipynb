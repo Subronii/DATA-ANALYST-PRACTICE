{
 "cells": [
  {
   "cell_type": "markdown",
   "id": "c6ead0b1-e63a-4eba-9ee8-69edbf8f7e8c",
   "metadata": {},
   "source": [
    "# The formula to calculate BMI is:\n",
    "# BMI = WEIGHT / HIGHT.. POWER OF 2\n",
    "#  ≤ 18.4\tUnderweight\r",
    "#  \n",
    "18.5 - 24.9\tNormal#  \r\n",
    "25.0 - 39.9\tOverweigh#  t\r\n",
    "≥ 40.0\tObese"
   ]
  },
  {
   "cell_type": "code",
   "execution_count": 7,
   "id": "70159ddd-4d65-40b9-9a4c-653adc649428",
   "metadata": {},
   "outputs": [
    {
     "name": "stdin",
     "output_type": "stream",
     "text": [
      "Enter touy weight in KG :  90\n",
      "Enter your height in CM :  172.3\n"
     ]
    },
    {
     "ename": "AttributeError",
     "evalue": "'float' object has no attribute 'round'",
     "output_type": "error",
     "traceback": [
      "\u001b[1;31m---------------------------------------------------------------------------\u001b[0m",
      "\u001b[1;31mAttributeError\u001b[0m                            Traceback (most recent call last)",
      "Cell \u001b[1;32mIn[7], line 5\u001b[0m\n\u001b[0;32m      3\u001b[0m hm \u001b[38;5;241m=\u001b[39m height1 \u001b[38;5;241m/\u001b[39m \u001b[38;5;241m100\u001b[39m\n\u001b[0;32m      4\u001b[0m BMIcal \u001b[38;5;241m=\u001b[39m (weight1 \u001b[38;5;241m/\u001b[39m (hm \u001b[38;5;241m*\u001b[39m\u001b[38;5;241m*\u001b[39m \u001b[38;5;241m2\u001b[39m)) \u001b[38;5;241m*\u001b[39m \u001b[38;5;241m10000\u001b[39m\n\u001b[1;32m----> 5\u001b[0m \u001b[38;5;28mprint\u001b[39m(\u001b[38;5;124m\"\u001b[39m\u001b[38;5;124mYour Body Mass Index is : \u001b[39m\u001b[38;5;124m\"\u001b[39m , BMIcal\u001b[38;5;241m.\u001b[39mround(\u001b[38;5;241m2\u001b[39m))\n\u001b[0;32m      6\u001b[0m \u001b[38;5;28;01mif\u001b[39;00m BMIcal \u001b[38;5;241m<\u001b[39m\u001b[38;5;241m=\u001b[39m \u001b[38;5;241m18.4\u001b[39m :\n\u001b[0;32m      7\u001b[0m     \u001b[38;5;28mprint\u001b[39m(\u001b[38;5;124m\"\u001b[39m\u001b[38;5;124mYour are UNDER WEIGHT\u001b[39m\u001b[38;5;124m\"\u001b[39m)\n",
      "\u001b[1;31mAttributeError\u001b[0m: 'float' object has no attribute 'round'"
     ]
    }
   ],
   "source": [
    "weight1 = int(input(\"Enter your weight in KG : \"))\n",
    "height1 = float(input(\"Enter your height in CM : \"))\n",
    "hm = height1 / 100\n",
    "BMIcal = (weight1 / (hm ** 2)) * 10000\n",
    "print(\"Your Body Mass Index is : \" , BMIcal.round(2))\n",
    "if BMIcal <= 18.4 :\n",
    "    print(\"Your are UNDER WEIGHT\")\n",
    "elif BMIcal <= 24.9 :\n",
    "    print(\"Your are NORMAL\")\n",
    "elif BMIcal <= 39.9 :\n",
    "    print(\"Your are OVER WEIGHT\")\n",
    "elif BMIcal > 40.0 :\n",
    "    print(\"Your are OBESE\")"
   ]
  },
  {
   "cell_type": "code",
   "execution_count": null,
   "id": "e657c796-6f62-4ec1-bcde-d2493e573a5c",
   "metadata": {},
   "outputs": [],
   "source": []
  }
 ],
 "metadata": {
  "kernelspec": {
   "display_name": "Python 3 (ipykernel)",
   "language": "python",
   "name": "python3"
  },
  "language_info": {
   "codemirror_mode": {
    "name": "ipython",
    "version": 3
   },
   "file_extension": ".py",
   "mimetype": "text/x-python",
   "name": "python",
   "nbconvert_exporter": "python",
   "pygments_lexer": "ipython3",
   "version": "3.11.7"
  }
 },
 "nbformat": 4,
 "nbformat_minor": 5
}
