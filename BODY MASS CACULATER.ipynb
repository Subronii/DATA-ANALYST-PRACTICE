{
 "cells": [
  {
   "cell_type": "markdown",
   "id": "c6ead0b1-e63a-4eba-9ee8-69edbf8f7e8c",
   "metadata": {},
   "source": [
    "# The formula to calculate BMI is:\n",
    "# BMI = WEIGHT / HIGHT.. POWER OF 2"
   ]
  },
  {
   "cell_type": "code",
   "execution_count": 4,
   "id": "70159ddd-4d65-40b9-9a4c-653adc649428",
   "metadata": {},
   "outputs": [
    {
     "name": "stdin",
     "output_type": "stream",
     "text": [
      "Enter your height :  7\n",
      "Enter touy weight :  90\n"
     ]
    },
    {
     "name": "stdout",
     "output_type": "stream",
     "text": [
      "Your Body Mass Index is :  1.836734693877551\n"
     ]
    }
   ],
   "source": [
    "height1 = int(input(\"Enter your height : \"))\n",
    "weight1 = int(input(\"Enter touy weight : \"))\n",
    "BMIcal = weight1 / (height1 ** 2)\n",
    "print(\"Your Body Mass Index is : \" , BMIcal)"
   ]
  },
  {
   "cell_type": "code",
   "execution_count": null,
   "id": "e657c796-6f62-4ec1-bcde-d2493e573a5c",
   "metadata": {},
   "outputs": [],
   "source": []
  }
 ],
 "metadata": {
  "kernelspec": {
   "display_name": "Python 3 (ipykernel)",
   "language": "python",
   "name": "python3"
  },
  "language_info": {
   "codemirror_mode": {
    "name": "ipython",
    "version": 3
   },
   "file_extension": ".py",
   "mimetype": "text/x-python",
   "name": "python",
   "nbconvert_exporter": "python",
   "pygments_lexer": "ipython3",
   "version": "3.11.7"
  }
 },
 "nbformat": 4,
 "nbformat_minor": 5
}
