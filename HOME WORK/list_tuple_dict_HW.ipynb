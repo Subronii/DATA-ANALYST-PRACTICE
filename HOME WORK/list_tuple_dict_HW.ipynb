{
 "cells": [
  {
   "cell_type": "markdown",
   "id": "15d89bc6-ce55-4c52-ae87-93a575b21ca0",
   "metadata": {},
   "source": [
    "# 069 Create a tuple containing the names of five countries and display the whole tuple. Ask the user to enter one of the countries that have been shown to them and then display the index number (i.e. position in the list) of that item in the tuple."
   ]
  },
  {
   "cell_type": "code",
   "execution_count": 3,
   "id": "16f567a3-7f55-47f3-a5ba-bcb12f14d796",
   "metadata": {},
   "outputs": [
    {
     "name": "stdout",
     "output_type": "stream",
     "text": [
      "('INDIA', 'PAKISTAN', 'NEPAL', 'SRI LANKA', 'AFGANISTHAN')\n"
     ]
    },
    {
     "name": "stdin",
     "output_type": "stream",
     "text": [
      "Enter one of the countries names shown above :  nepal\n"
     ]
    },
    {
     "name": "stdout",
     "output_type": "stream",
     "text": [
      "2\n"
     ]
    }
   ],
   "source": [
    "countrytuple = (\"INDIA\", \"PAKISTAN\", \"NEPAL\", \"SRI LANKA\",\"AFGANISTHAN\")\n",
    "print(countrytuple)\n",
    "countryname = input(\"Enter one of the countries names shown above : \").upper()\n",
    "print(countrytuple.index(countryname))"
   ]
  },
  {
   "cell_type": "markdown",
   "id": "59dcd091-e694-4251-a60f-5dc6b424896a",
   "metadata": {},
   "source": [
    "# 070 Add to program 069 to ask the user to enter a number and display the country in that position."
   ]
  },
  {
   "cell_type": "code",
   "execution_count": 5,
   "id": "96dc3d25-e9ac-4846-9977-f657b90f3958",
   "metadata": {},
   "outputs": [
    {
     "name": "stdin",
     "output_type": "stream",
     "text": [
      "please enter a number :  3\n"
     ]
    },
    {
     "name": "stdout",
     "output_type": "stream",
     "text": [
      "SRI LANKA\n"
     ]
    }
   ],
   "source": [
    "findcountry = int(input(\"please enter a number : \"))\n",
    "print(countrytuple[findcountry])"
   ]
  },
  {
   "cell_type": "markdown",
   "id": "0629f46d-550a-44cd-9849-9a74f5eaec52",
   "metadata": {},
   "source": [
    "# 071 Create a list of two sports. Ask the user what their favourite sport is and add this to the end of the list. Sort the list and display it."
   ]
  },
  {
   "cell_type": "code",
   "execution_count": 7,
   "id": "0eeb7f74-e5ef-4bb4-bd52-0d6ea787b75f",
   "metadata": {},
   "outputs": [
    {
     "name": "stdout",
     "output_type": "stream",
     "text": [
      "['CIRCKET', 'BASKETBALL']\n"
     ]
    },
    {
     "name": "stdin",
     "output_type": "stream",
     "text": [
      "Enter your favourite sport name :  handball\n"
     ]
    },
    {
     "name": "stdout",
     "output_type": "stream",
     "text": [
      "['CIRCKET', 'BASKETBALL', 'HANDBALL']\n"
     ]
    }
   ],
   "source": [
    "sportlist = [\"CIRCKET\", \"BASKETBALL\"]\n",
    "print(sportlist)\n",
    "favsport = input(\"Enter your favourite sport name : \").upper()\n",
    "sportlist.append(favsport)\n",
    "print(sportlist)"
   ]
  },
  {
   "cell_type": "markdown",
   "id": "d32a8724-a3ba-41e8-875f-789194f2791b",
   "metadata": {},
   "source": [
    "# 072 Create a list of six school subjects. Ask the user which of these subjects they don’t like. Delete the subject they have chosen from the list before you display the list again."
   ]
  },
  {
   "cell_type": "code",
   "execution_count": 8,
   "id": "b74bd1ce-4b4b-4f48-a4f6-5e7b9aa8a52b",
   "metadata": {},
   "outputs": [
    {
     "name": "stdout",
     "output_type": "stream",
     "text": [
      "['MATHS', 'SCIENCE', 'HINDI', 'ENGLISH', 'SANSKRIT', 'COMPUTER']\n"
     ]
    },
    {
     "name": "stdin",
     "output_type": "stream",
     "text": [
      "Enter a subject from above you don't like :  hindi\n"
     ]
    },
    {
     "name": "stdout",
     "output_type": "stream",
     "text": [
      "['MATHS', 'SCIENCE', 'ENGLISH', 'SANSKRIT', 'COMPUTER']\n"
     ]
    }
   ],
   "source": [
    "sublist = [\"MATHS\", \"SCIENCE\", \"HINDI\", \"ENGLISH\", \"SANSKRIT\", \"COMPUTER\"]\n",
    "print(sublist)\n",
    "donlist = input(\"Enter a subject from above you don't like : \").upper()\n",
    "sublist.remove(donlist)\n",
    "print(sublist)"
   ]
  },
  {
   "cell_type": "markdown",
   "id": "49238739-bd9f-4acf-86da-d2f236bdf5dc",
   "metadata": {},
   "source": [
    "# 073 Ask the user to enter four of their favourite foods and store them in a dictionary so that they are indexed with numbers starting from 1. Display the dictionary in full, showing the index number and the item. Ask them which they want to get rid of and remove it from the list. Sort the remaining data and display the dictionary."
   ]
  },
  {
   "cell_type": "code",
   "execution_count": 13,
   "id": "47b4369c-980b-4c4d-9d77-13c08227ebb6",
   "metadata": {},
   "outputs": [
    {
     "name": "stdin",
     "output_type": "stream",
     "text": [
      "Enter your first favourite food :  dahi vada\n",
      "Enter your second favourite food :  aloo matter\n",
      "Enter your third favourite food :  spicy fish\n",
      "Enter your forth favourite food :  poha\n"
     ]
    },
    {
     "name": "stdout",
     "output_type": "stream",
     "text": [
      "{'1': 'DAHI VADA', '2': 'ALOO MATTER', '3': 'SPICY FISH', '4': 'POHA'}\n"
     ]
    },
    {
     "name": "stdin",
     "output_type": "stream",
     "text": [
      "Which one of above you want to get rid off (1-4) :  3\n"
     ]
    },
    {
     "name": "stdout",
     "output_type": "stream",
     "text": [
      "{'1': 'DAHI VADA', '2': 'ALOO MATTER', '4': 'POHA'}\n"
     ]
    }
   ],
   "source": [
    "favfood1 = input(\"Enter your first favourite food : \").upper()\n",
    "favfood2 = input(\"Enter your second favourite food : \").upper()\n",
    "favfood3 = input(\"Enter your third favourite food : \").upper()\n",
    "favfood4 = input(\"Enter your forth favourite food : \").upper()\n",
    "favouritefood = {}\n",
    "favouritefood.update({\"1\": favfood1})\n",
    "favouritefood.update({\"2\": favfood2})\n",
    "favouritefood.update({\"3\": favfood3})\n",
    "favouritefood.update({\"4\": favfood4})\n",
    "print(favouritefood)\n",
    "delfood = input(\"Which one of above you want to get rid off (1-4) : \")\n",
    "favouritefood.pop(delfood)\n",
    "print(favouritefood)"
   ]
  },
  {
   "cell_type": "markdown",
   "id": "158217a9-faf2-400a-b5c4-8b5f46c953d6",
   "metadata": {},
   "source": [
    "# 074 Enter a list of ten colours. Ask the user for a starting number between 0 and 4 and an end number between 5 and 9. Display the list for those colours between the start and end numbers the user input."
   ]
  },
  {
   "cell_type": "code",
   "execution_count": 15,
   "id": "b8c7780b-0813-439b-bacb-2baf5b2fb75b",
   "metadata": {},
   "outputs": [
    {
     "name": "stdout",
     "output_type": "stream",
     "text": [
      "['RED', 'BLUE', 'BLACK', 'ORANGE', 'GREEN', 'GREY', 'PURPLE', 'WHITE', 'BROWN', 'YELLOW']\n"
     ]
    },
    {
     "name": "stdin",
     "output_type": "stream",
     "text": [
      "Enter a number from 0-4 :  3\n",
      "Enter a number from 5-9 :  8\n"
     ]
    },
    {
     "name": "stdout",
     "output_type": "stream",
     "text": [
      "['ORANGE', 'GREEN', 'GREY', 'PURPLE', 'WHITE']\n"
     ]
    }
   ],
   "source": [
    "colorlist = [\"RED\", \"BLUE\", \"BLACK\", \"ORANGE\", \"GREEN\", \"GREY\", \"PURPLE\", \"WHITE\", \"BROWN\", \"YELLOW\"]\n",
    "print(colorlist)\n",
    "startnum = int(input(\"Enter a number from 0-4 : \"))\n",
    "endnum = int(input(\"Enter a number from 5-9 : \"))\n",
    "print(colorlist[startnum:endnum])"
   ]
  },
  {
   "cell_type": "markdown",
   "id": "27e2ac2b-1709-409f-bbc0-80c7eb990b00",
   "metadata": {},
   "source": [
    "# 075 Create a list of four three-digit numbers. Display the list to the user, showing each item from the list on a separate line. Ask the user to enter a three-digit number. If the number they have typed in matches one in the list, display the position of that number in the list, otherwise display the message “That is not in the list”."
   ]
  },
  {
   "cell_type": "code",
   "execution_count": 20,
   "id": "e78800c5-c843-4a33-8b4a-516dbcb83536",
   "metadata": {},
   "outputs": [
    {
     "name": "stdout",
     "output_type": "stream",
     "text": [
      "111\n",
      "222\n",
      "333\n",
      "444\n"
     ]
    },
    {
     "name": "stdin",
     "output_type": "stream",
     "text": [
      "Enter a number from above :  2344\n"
     ]
    },
    {
     "name": "stdout",
     "output_type": "stream",
     "text": [
      "2344 is not in the list\n"
     ]
    }
   ],
   "source": [
    "threenum = [111, 222, 333, 444]\n",
    "for n in threenum :\n",
    "    print(n)\n",
    "numberthree = int(input(\"Enter a number from above : \"))\n",
    "if numberthree in threenum :\n",
    "    print(threenum.index(numberthree))\n",
    "else :\n",
    "    print(f\"{numberthree} is not in the list\")"
   ]
  },
  {
   "cell_type": "code",
   "execution_count": null,
   "id": "1ae779fb-c9ae-41d0-86fb-27606b3b4fb8",
   "metadata": {},
   "outputs": [],
   "source": []
  }
 ],
 "metadata": {
  "kernelspec": {
   "display_name": "Python 3 (ipykernel)",
   "language": "python",
   "name": "python3"
  },
  "language_info": {
   "codemirror_mode": {
    "name": "ipython",
    "version": 3
   },
   "file_extension": ".py",
   "mimetype": "text/x-python",
   "name": "python",
   "nbconvert_exporter": "python",
   "pygments_lexer": "ipython3",
   "version": "3.11.7"
  }
 },
 "nbformat": 4,
 "nbformat_minor": 5
}
