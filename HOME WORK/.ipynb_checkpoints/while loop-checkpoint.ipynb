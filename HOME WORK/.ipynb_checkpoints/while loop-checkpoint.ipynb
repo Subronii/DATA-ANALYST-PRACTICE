{
 "cells": [
  {
   "cell_type": "markdown",
   "id": "a65cfeeb-69a4-4ec9-b8f6-bf17ced0d28b",
   "metadata": {},
   "source": [
    "# 045 Set the total to 0 to start with. While the total is 50 or less, ask the user to input a number. Add that number to the total and print the message “The total is… [total]”. Stop the loop when the total is over 50.\n",
    "•"
   ]
  },
  {
   "cell_type": "code",
   "execution_count": 1,
   "id": "9b6e3201-398c-47c4-8ddf-50d1d873aa9d",
   "metadata": {},
   "outputs": [
    {
     "name": "stdin",
     "output_type": "stream",
     "text": [
      "Enter a number :  10\n",
      "Enter a number :  10\n",
      "Enter a number :  10\n",
      "Enter a number :  10\n",
      "Enter a number :  2\n",
      "Enter a number :  3\n",
      "Enter a number :  4\n",
      "Enter a number :  4\n"
     ]
    },
    {
     "name": "stdout",
     "output_type": "stream",
     "text": [
      "The total number is 53\n"
     ]
    }
   ],
   "source": [
    "number0 = 0\n",
    "while number0 <= 50 :\n",
    "    addnumber = int(input(\"Enter a number : \"))\n",
    "    number0 += addnumber\n",
    "print(f\"The total number is {number0}\")"
   ]
  },
  {
   "cell_type": "markdown",
   "id": "05744dc4-554b-4792-80b9-7ac451244a0a",
   "metadata": {},
   "source": [
    "# 046 Ask the user to enter a number. Keep asking until they enter a value over 5 and then display the message “The last number you entered was a [number]” and stop the program."
   ]
  },
  {
   "cell_type": "code",
   "execution_count": 2,
   "id": "9a9b5fbe-4bf8-4b57-ac52-13095448ccdb",
   "metadata": {},
   "outputs": [
    {
     "name": "stdin",
     "output_type": "stream",
     "text": [
      "Enter a number :  1\n",
      "Enter a number :  1\n",
      "Enter a number :  2\n",
      "Enter a number :  3\n",
      "Enter a number :  4\n",
      "Enter a number :  5\n",
      "Enter a number :  6\n"
     ]
    }
   ],
   "source": [
    "asknumber = int(input(\"Enter a number : \"))\n",
    "while asknumber <= 5 :\n",
    "    asknumber = int(input(\"Enter a number : \"))\n",
    "    asknumber <= 5"
   ]
  },
  {
   "cell_type": "markdown",
   "id": "02371dab-606f-45d8-a139-8bad9163c7bc",
   "metadata": {},
   "source": [
    "# 047 Ask the user to enter a number and then enter another number. Add these two numbers together and then ask if they want to add another number. If they enter “y\", ask them to enter another number and keep adding numbers until they do not answer “y”. Once the loop has stopped, display the total."
   ]
  },
  {
   "cell_type": "code",
   "execution_count": 7,
   "id": "48e03da9-1962-41ce-bf70-c08918ec4fec",
   "metadata": {},
   "outputs": [
    {
     "name": "stdin",
     "output_type": "stream",
     "text": [
      "Enter a number :  2\n",
      "Enter a number :  2\n",
      "Do you want to add another number (y/n) :  y\n",
      "Enter a number :  3\n",
      "Do you want to add another number (y/n) :  y\n",
      "Enter a number :  3\n",
      "Do you want to add another number (y/n) :  y\n",
      "Enter a number :  1\n",
      "Do you want to add another number (y/n) :  n\n"
     ]
    },
    {
     "name": "stdout",
     "output_type": "stream",
     "text": [
      "The total is 11\n"
     ]
    }
   ],
   "source": [
    "onenumber = int(input(\"Enter a number : \"))\n",
    "secondnumber = int(input(\"Enter a number : \"))\n",
    "addingnumber = onenumber + secondnumber\n",
    "askadding = input(\"Do you want to add another number (y/n) : \").upper()\n",
    "while askadding == \"Y\" :\n",
    "    anothernumber = int(input(\"Enter a number : \"))\n",
    "    addingnumber += anothernumber\n",
    "    askadding = input(\"Do you want to add another number (y/n) : \").upper()\n",
    "print(f\"The total is {addingnumber}\")"
   ]
  },
  {
   "cell_type": "markdown",
   "id": "a61bd95f-5b57-4ebc-8a8c-b7238d978d9d",
   "metadata": {},
   "source": [
    "# 048 Ask for the name of somebody the user wants to invite to a party. After this, display the message “[name] has now been invited” and add 1 to the count. Then ask if they want to invite somebody else. Keep repeating this until they no longer want to invite anyone else to the party and then display how many people they have coming to the party."
   ]
  },
  {
   "cell_type": "code",
   "execution_count": 9,
   "id": "8cdffcf8-3154-4403-ad97-9ca4836ad97d",
   "metadata": {},
   "outputs": [
    {
     "name": "stdin",
     "output_type": "stream",
     "text": [
      "Enter a name of somebody you want to invite to a party :  subham\n"
     ]
    },
    {
     "name": "stdout",
     "output_type": "stream",
     "text": [
      "SUBHAM has been invited\n"
     ]
    },
    {
     "name": "stdin",
     "output_type": "stream",
     "text": [
      "Do you want to invite somebody else (y/n) :  y\n",
      "Enter a name you want to invite to a party :  ronii\n",
      "Do you want to invite somebody else (y/n) :  y\n",
      "Enter a name you want to invite to a party :  tony\n",
      "Do you want to invite somebody else (y/n) :  y\n",
      "Enter a name you want to invite to a party :  suresh\n",
      "Do you want to invite somebody else (y/n) :  y\n",
      "Enter a name you want to invite to a party :  anku\n",
      "Do you want to invite somebody else (y/n) :  y\n",
      "Enter a name you want to invite to a party :  bhanu\n",
      "Do you want to invite somebody else (y/n) :  n\n"
     ]
    },
    {
     "name": "stdout",
     "output_type": "stream",
     "text": [
      "You have invited 6 to a party\n"
     ]
    }
   ],
   "source": [
    "ask_name = input(\"Enter a name of somebody you want to invite to a party : \").upper()\n",
    "print(f\"{ask_name} has been invited\")\n",
    "partylist = [ask_name]\n",
    "ask_again = input(\"Do you want to invite somebody else (y/n) : \").upper()\n",
    "while ask_again == \"Y\" :\n",
    "    name_ask = input(\"Enter a name you want to invite to a party : \").upper()\n",
    "    partylist.append(name_ask)\n",
    "    ask_again = input(\"Do you want to invite somebody else (y/n) : \").upper()\n",
    "print(\"You have invited\", len(partylist), \"to a party\")"
   ]
  },
  {
   "cell_type": "markdown",
   "id": "e0e2eae0-8c41-4860-aee7-e47f386f8858",
   "metadata": {},
   "source": [
    "# 049 Create a variable called compnum and set the value to 50. Ask the user to enter a number. While their guess is not the same as the compnum value, tell them if their guess is too low or too high and ask them to have another guess. If they enter the same value as compnum, display the message “Well done, you took [count] attempts”.@@@"
   ]
  },
  {
   "cell_type": "code",
   "execution_count": 2,
   "id": "dc75a6bf-3f8e-47a2-ae44-3ef0c910c58a",
   "metadata": {},
   "outputs": [
    {
     "name": "stdin",
     "output_type": "stream",
     "text": [
      "Guess the number :  1\n"
     ]
    },
    {
     "name": "stdout",
     "output_type": "stream",
     "text": [
      "Too low\n",
      "Well done, you took 1 attempts\n"
     ]
    },
    {
     "name": "stdin",
     "output_type": "stream",
     "text": [
      "Guess the number :  2\n"
     ]
    },
    {
     "name": "stdout",
     "output_type": "stream",
     "text": [
      "Too low\n",
      "Well done, you took 2 attempts\n"
     ]
    },
    {
     "name": "stdin",
     "output_type": "stream",
     "text": [
      "Guess the number :  55\n"
     ]
    },
    {
     "name": "stdout",
     "output_type": "stream",
     "text": [
      "Too high\n",
      "Well done, you took 3 attempts\n"
     ]
    },
    {
     "name": "stdin",
     "output_type": "stream",
     "text": [
      "Guess the number :  66\n"
     ]
    },
    {
     "name": "stdout",
     "output_type": "stream",
     "text": [
      "Too high\n",
      "Well done, you took 4 attempts\n"
     ]
    },
    {
     "name": "stdin",
     "output_type": "stream",
     "text": [
      "Guess the number :  23\n"
     ]
    },
    {
     "name": "stdout",
     "output_type": "stream",
     "text": [
      "Too low\n",
      "Well done, you took 5 attempts\n"
     ]
    },
    {
     "name": "stdin",
     "output_type": "stream",
     "text": [
      "Guess the number :  51\n"
     ]
    },
    {
     "name": "stdout",
     "output_type": "stream",
     "text": [
      "Too high\n",
      "Well done, you took 6 attempts\n"
     ]
    },
    {
     "name": "stdin",
     "output_type": "stream",
     "text": [
      "Guess the number :  50\n"
     ]
    },
    {
     "name": "stdout",
     "output_type": "stream",
     "text": [
      "Well done,finally you took 7 attempts\n"
     ]
    }
   ],
   "source": [
    "compnum = 50\n",
    "entera_num = int(input(\"Guess the number : \"))\n",
    "count = 1\n",
    "while entera_num != compnum :\n",
    "    if entera_num < 50 :\n",
    "        print(\"Too low\")\n",
    "        print(f\"Well done, you took {count} attempts\")\n",
    "        count += 1\n",
    "        entera_num = int(input(\"Guess the number : \"))\n",
    "    elif entera_num > 50 :\n",
    "        print(\"Too high\")\n",
    "        print(f\"Well done, you took {count} attempts\")\n",
    "        count += 1\n",
    "        entera_num = int(input(\"Guess the number : \"))\n",
    "print(f\"Well done,finally you took {count} attempts\")"
   ]
  },
  {
   "cell_type": "markdown",
   "id": "c859dcaf-aaf3-4c49-b7b2-f55388926371",
   "metadata": {},
   "source": [
    "# 050 Ask the user to enter a number between 10 and 20. If they enter a value under 10, display the message “Too low” and ask them to try again. If they enter a value above 20, display the message “Too high” and ask them to try again. Keep repeating this until they enter a value that is between 10 and 20 and then display the message “Thank you”."
   ]
  },
  {
   "cell_type": "code",
   "execution_count": 11,
   "id": "cc343a7e-5d29-4780-b15a-0ddb6d28e244",
   "metadata": {},
   "outputs": [
    {
     "name": "stdin",
     "output_type": "stream",
     "text": [
      "Enter a number between 10 and 20 :  1\n"
     ]
    },
    {
     "name": "stdout",
     "output_type": "stream",
     "text": [
      "Too low\n"
     ]
    },
    {
     "name": "stdin",
     "output_type": "stream",
     "text": [
      "Enter a number between 10 and 20 :  21\n"
     ]
    },
    {
     "name": "stdout",
     "output_type": "stream",
     "text": [
      "Too high\n"
     ]
    },
    {
     "name": "stdin",
     "output_type": "stream",
     "text": [
      "Enter a number between 10 and 20 :  3\n"
     ]
    },
    {
     "name": "stdout",
     "output_type": "stream",
     "text": [
      "Too low\n"
     ]
    },
    {
     "name": "stdin",
     "output_type": "stream",
     "text": [
      "Enter a number between 10 and 20 :  24\n"
     ]
    },
    {
     "name": "stdout",
     "output_type": "stream",
     "text": [
      "Too high\n"
     ]
    },
    {
     "name": "stdin",
     "output_type": "stream",
     "text": [
      "Enter a number between 10 and 20 :  15\n"
     ]
    },
    {
     "name": "stdout",
     "output_type": "stream",
     "text": [
      "Thank you\n"
     ]
    }
   ],
   "source": [
    "enter_number = int(input(\"Enter a number between 10 and 20 : \"))\n",
    "while enter_number < 10 or enter_number > 20 :\n",
    "    if enter_number < 10 :\n",
    "        print(\"Too low\")\n",
    "        enter_number = int(input(\"Enter a number between 10 and 20 : \"))\n",
    "    elif enter_number > 20 :\n",
    "        print(\"Too high\")\n",
    "        enter_number = int(input(\"Enter a number between 10 and 20 : \"))\n",
    "print(\"Thank you\")"
   ]
  },
  {
   "cell_type": "markdown",
   "id": "e932a67f-8d64-406e-a2b1-0a43b612d236",
   "metadata": {},
   "source": [
    "# 051 Using the song “10 green bottles”, display the lines “There are [num] green bottles hanging on the wall, [num] green bottles hanging on the wall, and if 1 green bottle should accidentally fall”. Then ask the question “how many green bottles will be hanging on the wall?” If the user answers correctly, display the message “There will be [num] green bottles hanging on the wall”. If they answer incorrectly, display the message “No, try again” until they get it right. When the number of green bottles gets down to 0, display the message “There are no more green bottles hanging on the wall”."
   ]
  },
  {
   "cell_type": "code",
   "execution_count": 5,
   "id": "0b5873af-2559-48fc-aff4-acdf0ccc0ca0",
   "metadata": {},
   "outputs": [
    {
     "name": "stdout",
     "output_type": "stream",
     "text": [
      "     10 GREEN BOTTLES     \n",
      "\n",
      "There are 10 green bottles hanging on the wall\n",
      "\n",
      "10 green bottles hanging on the wall\n",
      "\n",
      "And if 3 green bottle should accidentally fall\n",
      "\n"
     ]
    },
    {
     "name": "stdin",
     "output_type": "stream",
     "text": [
      "How many green bottles will be hanging on the wall ? -  10\n"
     ]
    },
    {
     "name": "stdout",
     "output_type": "stream",
     "text": [
      "No, try again\n"
     ]
    },
    {
     "name": "stdin",
     "output_type": "stream",
     "text": [
      "How many green bottles will be hanging on the wall ? -  6\n"
     ]
    },
    {
     "name": "stdout",
     "output_type": "stream",
     "text": [
      "No, try again\n"
     ]
    },
    {
     "name": "stdin",
     "output_type": "stream",
     "text": [
      "How many green bottles will be hanging on the wall ? -  8\n"
     ]
    },
    {
     "name": "stdout",
     "output_type": "stream",
     "text": [
      "No, try again\n"
     ]
    },
    {
     "name": "stdin",
     "output_type": "stream",
     "text": [
      "How many green bottles will be hanging on the wall ? -  9\n"
     ]
    },
    {
     "name": "stdout",
     "output_type": "stream",
     "text": [
      "No, try again\n"
     ]
    },
    {
     "name": "stdin",
     "output_type": "stream",
     "text": [
      "How many green bottles will be hanging on the wall ? -  7\n"
     ]
    },
    {
     "name": "stdout",
     "output_type": "stream",
     "text": [
      "\n",
      "There will be 7 green bottles hanging on the wall\n"
     ]
    }
   ],
   "source": [
    "print(\"     10 GREEN BOTTLES     \")\n",
    "print()\n",
    "print(\"There are 10 green bottles hanging on the wall\")\n",
    "print()\n",
    "print(\"10 green bottles hanging on the wall\")\n",
    "print()\n",
    "print(\"And if 3 green bottle should accidentally fall\")\n",
    "print()\n",
    "ques_ask = int(input(\"How many green bottles will be hanging on the wall ? - \"))\n",
    "while ques_ask != 7 :\n",
    "    print(\"No, try again\")\n",
    "    ques_ask = int(input(\"How many green bottles will be hanging on the wall ? - \"))\n",
    "print()\n",
    "print(f\"There will be {ques_ask} green bottles hanging on the wall\")"
   ]
  },
  {
   "cell_type": "code",
   "execution_count": null,
   "id": "f0dcec1c-f844-47d3-8a66-2295e0774648",
   "metadata": {},
   "outputs": [],
   "source": []
  }
 ],
 "metadata": {
  "kernelspec": {
   "display_name": "Python 3 (ipykernel)",
   "language": "python",
   "name": "python3"
  },
  "language_info": {
   "codemirror_mode": {
    "name": "ipython",
    "version": 3
   },
   "file_extension": ".py",
   "mimetype": "text/x-python",
   "name": "python",
   "nbconvert_exporter": "python",
   "pygments_lexer": "ipython3",
   "version": "3.11.7"
  }
 },
 "nbformat": 4,
 "nbformat_minor": 5
}
