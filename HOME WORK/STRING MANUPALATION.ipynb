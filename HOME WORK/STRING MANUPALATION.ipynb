{
 "cells": [
  {
   "cell_type": "markdown",
   "id": "a60898cb-87b1-44f4-9f27-d95eb7bb2d95",
   "metadata": {},
   "source": [
    "# 080 Ask the user to enter their first name and then display the length of their first name. Then ask for their surname and display the length of their surname. Join their first name and surname together with a space between and display the result. Finally, display the length of their full name (including the space)."
   ]
  },
  {
   "cell_type": "code",
   "execution_count": 1,
   "id": "437f9682-8249-4563-a689-9dadd1cd8a7f",
   "metadata": {},
   "outputs": [
    {
     "name": "stdin",
     "output_type": "stream",
     "text": [
      "Please enter your first name :  amitabh\n"
     ]
    },
    {
     "name": "stdout",
     "output_type": "stream",
     "text": [
      "7\n"
     ]
    },
    {
     "name": "stdin",
     "output_type": "stream",
     "text": [
      "Please enter your surname :  bachan\n"
     ]
    },
    {
     "name": "stdout",
     "output_type": "stream",
     "text": [
      "6\n",
      "amitabh bachan\n",
      "14\n"
     ]
    }
   ],
   "source": [
    "fname = input(\"Please enter your first name : \")\n",
    "print(len(fname))\n",
    "sname = input(\"Please enter your surname : \")\n",
    "print(len(sname))\n",
    "flname = fname+\" \"+sname\n",
    "print(flname)\n",
    "print(len(flname))"
   ]
  },
  {
   "cell_type": "markdown",
   "id": "9d741b1d-5a0d-4614-889f-451627dfc8a6",
   "metadata": {},
   "source": [
    "# 081 Ask the user to type in their favourite school subject. Display it with “-” after each letter, e.g. S-p-a-n-i-s-h-."
   ]
  },
  {
   "cell_type": "code",
   "execution_count": 4,
   "id": "1d22657b-5f3d-4ce6-8f14-93893ec7ff5d",
   "metadata": {},
   "outputs": [
    {
     "name": "stdin",
     "output_type": "stream",
     "text": [
      "Please enter your favourite subject :  hindi\n"
     ]
    },
    {
     "name": "stdout",
     "output_type": "stream",
     "text": [
      "h-i-n-d-i\n"
     ]
    }
   ],
   "source": [
    "fsubject = input(\"Please enter your favourite subject : \")\n",
    "print(\"-\".join(fsubject))"
   ]
  },
  {
   "cell_type": "markdown",
   "id": "60ef1fff-a16e-434f-a27b-c13d6e19e9d6",
   "metadata": {},
   "source": [
    "# 082 Show the user a line of text from your favourite poem and ask for a starting and ending point. Display the characters between those two points."
   ]
  },
  {
   "cell_type": "code",
   "execution_count": 13,
   "id": "e91dbf92-cfde-4b46-ac34-e42f40ac3814",
   "metadata": {},
   "outputs": [
    {
     "name": "stdin",
     "output_type": "stream",
     "text": [
      "Please enter a line from your favourite poem :  Two roads diverged in a wood, and I took the one less travelled\n"
     ]
    },
    {
     "name": "stdout",
     "output_type": "stream",
     "text": [
      "Two roads diverged in a wood, and I took the one less travelled\n"
     ]
    },
    {
     "name": "stdin",
     "output_type": "stream",
     "text": [
      "Please enter a word from starting :  in\n",
      "Please enter a word ending :  less\n"
     ]
    },
    {
     "name": "stdout",
     "output_type": "stream",
     "text": [
      "The characters between those two points is 30\n"
     ]
    }
   ],
   "source": [
    "fpoem = input(\"Please enter a line from your favourite poem : \")\n",
    "print(fpoem)\n",
    "sp = input(\"Please enter a word from starting : \")\n",
    "ep = input(\"Please enter a word ending : \")\n",
    "fsp = fpoem.find(sp)\n",
    "fep = fpoem.find(ep)\n",
    "tc = len(fpoem[fsp:fep])\n",
    "print(f\"The characters between those two points is {tc}\")"
   ]
  },
  {
   "cell_type": "code",
   "execution_count": null,
   "id": "50bd891d-a3de-48d9-aec9-817a8624d3d5",
   "metadata": {},
   "outputs": [],
   "source": []
  }
 ],
 "metadata": {
  "kernelspec": {
   "display_name": "Python 3 (ipykernel)",
   "language": "python",
   "name": "python3"
  },
  "language_info": {
   "codemirror_mode": {
    "name": "ipython",
    "version": 3
   },
   "file_extension": ".py",
   "mimetype": "text/x-python",
   "name": "python",
   "nbconvert_exporter": "python",
   "pygments_lexer": "ipython3",
   "version": "3.11.7"
  }
 },
 "nbformat": 4,
 "nbformat_minor": 5
}
